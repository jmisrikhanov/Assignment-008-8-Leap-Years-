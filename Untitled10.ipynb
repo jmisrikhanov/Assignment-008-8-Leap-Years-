{
  "nbformat": 4,
  "nbformat_minor": 0,
  "metadata": {
    "colab": {
      "name": "Untitled10.ipynb",
      "provenance": [],
      "authorship_tag": "ABX9TyOdnrNm/KApoVayrr0F8xY7",
      "include_colab_link": true
    },
    "kernelspec": {
      "name": "python3",
      "display_name": "Python 3"
    },
    "language_info": {
      "name": "python"
    }
  },
  "cells": [
    {
      "cell_type": "markdown",
      "metadata": {
        "id": "view-in-github",
        "colab_type": "text"
      },
      "source": [
        "<a href=\"https://colab.research.google.com/github/jmisrikhanov/Assignment-008-8-Leap-Years-/blob/main/Untitled10.ipynb\" target=\"_parent\"><img src=\"https://colab.research.google.com/assets/colab-badge.svg\" alt=\"Open In Colab\"/></a>"
      ]
    },
    {
      "cell_type": "code",
      "metadata": {
        "colab": {
          "base_uri": "https://localhost:8080/"
        },
        "id": "JVITKC9BP2LA",
        "outputId": "29b557aa-591c-4b99-b12d-76bf1ebdfced"
      },
      "source": [
        "year = int(input(\"Please enter a year: \"))\n",
        "if year%4==0 and not year%100==0:\n",
        "  print(\"{} is a leap year\".format(year))\n",
        "elif year%100==0 and year%400==0:\n",
        "  print(\"{} is a leap year\".format(year))\n",
        "else:\n",
        "  print(\"{} is not a leap year\".format(year))"
      ],
      "execution_count": 1,
      "outputs": [
        {
          "output_type": "stream",
          "text": [
            "Please enter a year: 2021\n",
            "2021 is not a leap year\n"
          ],
          "name": "stdout"
        }
      ]
    }
  ]
}